{
 "cells": [
  {
   "cell_type": "code",
   "execution_count": null,
   "metadata": {},
   "outputs": [],
   "source": [
    "import tifffile as tf\n",
    "import math\n",
    "import matplotlib.pyplot as plt\n",
    "import numpy as np\n",
    "import pandas as pd\n",
    "import PIL\n",
    "import matplotlib.image as mpimg\n",
    "import imageio\n",
    "import skimage\n",
    "import scipy\n",
    "from PIL import Image\n",
    "from skimage import *"
   ]
  },
  {
   "cell_type": "code",
   "execution_count": null,
   "metadata": {},
   "outputs": [],
   "source": [
    "def crop_center(img,cropx,cropy):\n",
    "    y,x = img.shape\n",
    "    startx = x//2-(cropx//2)\n",
    "    starty = y//2-(cropy//2)    \n",
    "    return img[starty:starty+cropy,startx:startx+cropx]"
   ]
  },
  {
   "cell_type": "code",
   "execution_count": null,
   "metadata": {},
   "outputs": [],
   "source": [
    "image_path = \"0001.tiff\"\n",
    "\n",
    "img = tf.imread(image_path)\n",
    "imarray = np.array(img)\n",
    "imgplot = tf.imshow(img, cmap='gray')\n",
    "plt.show()\n",
    "\n",
    "crop_array = imarray[450:600,600:750]\n",
    "\n",
    "print(crop_array.dtype)\n",
    "\n",
    "imageio.imwrite('crop0001.tiff', crop_array)\n",
    "\n",
    "img2 = tf.imread('crop0001.tiff')\n",
    "imarray2 = np.array(img2)\n",
    "\n",
    "imgplot = plt.imshow(img2, cmap='gray')\n",
    "plt.savefig('Porosity_Slice.png')\n",
    "\n",
    "print(imarray2.dtype)\n",
    "print(imarray2.shape)"
   ]
  },
  {
   "cell_type": "code",
   "execution_count": null,
   "metadata": {},
   "outputs": [],
   "source": [
    "num_bins = np.amax(imarray2) - np.amin(imarray2) + 1\n",
    "counts, bin_edges = np.histogram (imarray2, bins=num_bins)\n",
    "cdf = np.cumsum (counts)\n",
    "plt.plot (bin_edges[1:], cdf/cdf[-1])\n",
    "\n",
    "mincdf = np.amin(cdf)\n",
    "MN = np.prod(imarray2.shape)\n",
    "\n",
    "B = 65535 / (MN - mincdf)\n",
    "\n",
    "hv = np.round((cdf - mincdf)*B , 0)\n",
    "\n",
    "print(hv.shape)\n",
    "\n",
    "print(np.amax(imarray2),np.amin(imarray2),num_bins)"
   ]
  },
  {
   "cell_type": "code",
   "execution_count": null,
   "metadata": {},
   "outputs": [],
   "source": [
    "im_eq2 = exposure.equalize_hist(imarray2)\n",
    "\n",
    "boosted_image = Image.fromarray(im_eq2)\n",
    "imgplot = plt.imshow(im_eq2, cmap='gray')\n",
    "plt.savefig('Boosted2.tiff')\n",
    "plt.show()"
   ]
  },
  {
   "cell_type": "code",
   "execution_count": null,
   "metadata": {},
   "outputs": [],
   "source": [
    "counts, bin_edges = np.histogram (im_eq2)\n",
    "cdf = np.cumsum (counts)\n",
    "plt.plot (bin_edges[1:], cdf/cdf[-1])\n",
    "plt.savefig('Porosity_CDF.png')"
   ]
  },
  {
   "cell_type": "code",
   "execution_count": null,
   "metadata": {},
   "outputs": [],
   "source": []
  }
 ],
 "metadata": {
  "kernelspec": {
   "display_name": "Python 3",
   "language": "python",
   "name": "python3"
  },
  "language_info": {
   "codemirror_mode": {
    "name": "ipython",
    "version": 3
   },
   "file_extension": ".py",
   "mimetype": "text/x-python",
   "name": "python",
   "nbconvert_exporter": "python",
   "pygments_lexer": "ipython3",
   "version": "3.7.1"
  }
 },
 "nbformat": 4,
 "nbformat_minor": 2
}
